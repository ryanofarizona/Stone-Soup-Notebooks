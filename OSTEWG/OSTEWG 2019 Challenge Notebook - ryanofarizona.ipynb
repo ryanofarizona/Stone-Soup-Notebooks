{
 "cells": [
  {
   "cell_type": "markdown",
   "metadata": {},
   "source": [
    "## OSTEWG 2019 Challenge - ryanofarizona\n",
    "\n",
    "## WAMI Data Association and Tracking"
   ]
  },
  {
   "cell_type": "markdown",
   "metadata": {},
   "source": [
    "### General imports"
   ]
  },
  {
   "cell_type": "code",
   "execution_count": 1,
   "metadata": {},
   "outputs": [],
   "source": [
    "import numpy as np\n",
    "import os"
   ]
  },
  {
   "cell_type": "markdown",
   "metadata": {},
   "source": [
    "### Get path to the data"
   ]
  },
  {
   "cell_type": "code",
   "execution_count": 2,
   "metadata": {},
   "outputs": [],
   "source": [
    "data_dir = os.path.abspath(os.getenv('OSTEWG_DATA_DIR', '../../Stone-Soup-Data/wami-2019-ostewg-challenge'))\n",
    "alltruth_filename = os.path.join(data_dir, 'alltruth.txt')\n",
    "truth_filename = os.path.join(data_dir, 'truth.txt')\n",
    "detections_filename = os.path.join(data_dir, 'detections.txt')"
   ]
  },
  {
   "cell_type": "markdown",
   "metadata": {},
   "source": [
    "### Configure truth readers"
   ]
  },
  {
   "cell_type": "code",
   "execution_count": 3,
   "metadata": {},
   "outputs": [],
   "source": [
    "import csv\n",
    "\n",
    "from stonesoup.reader.generic import CSVGroundTruthReader\n",
    "\n",
    "class UoLWAMIDataDialect(csv.Dialect):\n",
    "    delimiter=' '\n",
    "    skipinitialspace=True\n",
    "    quoting=csv.QUOTE_NONE\n",
    "    lineterminator='\\r\\n'\n",
    "\n",
    "alltruth_reader = CSVGroundTruthReader(\n",
    "    alltruth_filename,\n",
    "    state_vector_fields=[\"x\", \"y\"],\n",
    "    time_field=\"time\",\n",
    "    timestamp=True,\n",
    "    path_id_field=\"id\",\n",
    "    csv_options={'dialect': UoLWAMIDataDialect,\n",
    "                 'fieldnames': ['time', 'x', 'y', 'id']})\n",
    "\n",
    "truth_reader = CSVGroundTruthReader(\n",
    "    truth_filename,\n",
    "    state_vector_fields=[\"x\", \"y\"],\n",
    "    time_field=\"time\",\n",
    "    timestamp=True,\n",
    "    path_id_field=\"id\",\n",
    "    csv_options={'dialect': UoLWAMIDataDialect,\n",
    "                 'fieldnames': ['time', 'x', 'y', 'id']})"
   ]
  },
  {
   "cell_type": "markdown",
   "metadata": {},
   "source": [
    "### Load truth tracks"
   ]
  },
  {
   "cell_type": "code",
   "execution_count": 4,
   "metadata": {},
   "outputs": [],
   "source": [
    "alltruth_paths = set()\n",
    "alltruth_times = set()\n",
    "for time_dt64, path_states in alltruth_reader.groundtruth_paths_gen():\n",
    "    alltruth_times.add(time_dt64)\n",
    "    alltruth_paths.update(path_states)\n",
    "\n",
    "truth_paths = set()\n",
    "truth_times = set()\n",
    "for time_dt64, path_states in truth_reader.groundtruth_paths_gen():\n",
    "    truth_times.add(time_dt64)\n",
    "    truth_paths.update(path_states)"
   ]
  },
  {
   "cell_type": "markdown",
   "metadata": {},
   "source": [
    "### Inspect the structure of the truth data"
   ]
  },
  {
   "cell_type": "code",
   "execution_count": 5,
   "metadata": {},
   "outputs": [
    {
     "data": {
      "text/plain": [
       "144"
      ]
     },
     "execution_count": 5,
     "metadata": {},
     "output_type": "execute_result"
    }
   ],
   "source": [
    "# get the track count\n",
    "len(alltruth_paths)"
   ]
  },
  {
   "cell_type": "code",
   "execution_count": 6,
   "metadata": {},
   "outputs": [
    {
     "name": "stdout",
     "output_type": "stream",
     "text": [
      "1970-01-01 00:00:00, 1970-01-01 00:05:00, 300.0\n"
     ]
    }
   ],
   "source": [
    "# get start time, end time, duration\n",
    "start_dt64 = min(alltruth_times)\n",
    "end_dt64 = max(alltruth_times)\n",
    "duration_s = (end_dt64 - start_dt64).total_seconds()\n",
    "print(start_dt64, end_dt64, duration_s, sep=', ')"
   ]
  },
  {
   "cell_type": "code",
   "execution_count": 7,
   "metadata": {},
   "outputs": [],
   "source": [
    "# look at a single track\n",
    "singletruth = next(iter(alltruth_paths))"
   ]
  },
  {
   "cell_type": "code",
   "execution_count": 8,
   "metadata": {},
   "outputs": [
    {
     "data": {
      "text/plain": [
       "stonesoup.types.groundtruth.GroundTruthPath"
      ]
     },
     "execution_count": 8,
     "metadata": {},
     "output_type": "execute_result"
    }
   ],
   "source": [
    "type(singletruth)"
   ]
  },
  {
   "cell_type": "code",
   "execution_count": 9,
   "metadata": {},
   "outputs": [
    {
     "data": {
      "text/plain": [
       "'4.3000000e+01'"
      ]
     },
     "execution_count": 9,
     "metadata": {},
     "output_type": "execute_result"
    }
   ],
   "source": [
    "# get the track id\n",
    "singletruth.id"
   ]
  },
  {
   "cell_type": "code",
   "execution_count": 10,
   "metadata": {},
   "outputs": [
    {
     "data": {
      "text/plain": [
       "1256"
      ]
     },
     "execution_count": 10,
     "metadata": {},
     "output_type": "execute_result"
    }
   ],
   "source": [
    "# get the length of the states list\n",
    "len(singletruth.states)"
   ]
  },
  {
   "cell_type": "code",
   "execution_count": 11,
   "metadata": {},
   "outputs": [
    {
     "name": "stdout",
     "output_type": "stream",
     "text": [
      "1970-01-01 00:00:49 1970-01-01 00:05:00\n"
     ]
    }
   ],
   "source": [
    "# get the times of all the states\n",
    "singletruth_times = [ss.timestamp for ss in singletruth.states]\n",
    "# look at the first and last times\n",
    "print(singletruth_times[0], singletruth_times[-1])"
   ]
  },
  {
   "cell_type": "code",
   "execution_count": 12,
   "metadata": {},
   "outputs": [
    {
     "data": {
      "text/plain": [
       "{0.2: 1255}"
      ]
     },
     "execution_count": 12,
     "metadata": {},
     "output_type": "execute_result"
    }
   ],
   "source": [
    "# time difference stats\n",
    "singletruth_time_diffs = np.array([dd.total_seconds() for dd in np.diff(singletruth_times)])\n",
    "diff_seconds, diff_counts = np.unique(singletruth_time_diffs, return_counts=True)\n",
    "{diff_time:diff_count for diff_time, diff_count in zip(diff_seconds, diff_counts)}"
   ]
  },
  {
   "cell_type": "markdown",
   "metadata": {},
   "source": [
    "### Look into the truth tracks that were not detected\n",
    "`alltruth_detections` includes all truth, including those objects that were not detected. `truth_detections` only includes truth for those objects that were detected and at the times that they were detected. It is worth looking into the differences to shed light on why they might not have been detected."
   ]
  },
  {
   "cell_type": "code",
   "execution_count": 13,
   "metadata": {},
   "outputs": [
    {
     "data": {
      "text/plain": [
       "{'1.0400000e+02',\n",
       " '1.0700000e+02',\n",
       " '1.1200000e+02',\n",
       " '1.1500000e+02',\n",
       " '1.1900000e+02',\n",
       " '1.2000000e+02',\n",
       " '1.2800000e+02',\n",
       " '1.3100000e+02',\n",
       " '1.3200000e+02',\n",
       " '1.3900000e+02',\n",
       " '1.4000000e+01',\n",
       " '1.4000000e+02',\n",
       " '1.4200000e+02',\n",
       " '1.4700000e+02',\n",
       " '1.4800000e+02',\n",
       " '1.5000000e+02',\n",
       " '2.1000000e+01',\n",
       " '2.2000000e+01',\n",
       " '2.4000000e+01',\n",
       " '3.1000000e+01',\n",
       " '3.2000000e+01',\n",
       " '3.4000000e+01',\n",
       " '3.7000000e+01',\n",
       " '4.3000000e+01',\n",
       " '4.5000000e+01',\n",
       " '4.7000000e+01',\n",
       " '4.9000000e+01',\n",
       " '5.0000000e+01',\n",
       " '5.2000000e+01',\n",
       " '5.3000000e+01',\n",
       " '5.4000000e+01',\n",
       " '5.7000000e+01',\n",
       " '6.2000000e+01',\n",
       " '6.5000000e+01',\n",
       " '6.7000000e+01',\n",
       " '6.8000000e+01',\n",
       " '7.3000000e+01',\n",
       " '7.7000000e+01',\n",
       " '7.8000000e+01',\n",
       " '8.5000000e+01',\n",
       " '9.3000000e+01',\n",
       " '9.4000000e+01',\n",
       " '9.5000000e+01',\n",
       " '9.7000000e+01'}"
      ]
     },
     "execution_count": 13,
     "metadata": {},
     "output_type": "execute_result"
    }
   ],
   "source": [
    "alltruth_id_set = {tt.id for tt in alltruth_paths}\n",
    "truth_id_set = {tt.id for tt in truth_paths}\n",
    "undetected_id_set = alltruth_id_set.difference(truth_id_set)\n",
    "undetected_id_set"
   ]
  },
  {
   "cell_type": "code",
   "execution_count": 15,
   "metadata": {},
   "outputs": [
    {
     "data": {
      "text/plain": [
       "'c2f86049-da98-4359-ac4c-3c10ff901e38'"
      ]
     },
     "execution_count": 15,
     "metadata": {},
     "output_type": "execute_result"
    }
   ],
   "source": []
  },
  {
   "cell_type": "code",
   "execution_count": null,
   "metadata": {},
   "outputs": [],
   "source": []
  }
 ],
 "metadata": {
  "kernelspec": {
   "display_name": "Python 3",
   "language": "python",
   "name": "python3"
  },
  "language_info": {
   "codemirror_mode": {
    "name": "ipython",
    "version": 3
   },
   "file_extension": ".py",
   "mimetype": "text/x-python",
   "name": "python",
   "nbconvert_exporter": "python",
   "pygments_lexer": "ipython3",
   "version": "3.8.2"
  }
 },
 "nbformat": 4,
 "nbformat_minor": 4
}
